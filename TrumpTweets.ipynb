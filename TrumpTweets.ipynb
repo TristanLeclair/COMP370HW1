{
 "cells": [
  {
   "cell_type": "markdown",
   "source": [
    "# Data Collection"
   ],
   "metadata": {
    "collapsed": false
   }
  },
  {
   "cell_type": "code",
   "execution_count": 2,
   "metadata": {
    "collapsed": true
   },
   "outputs": [],
   "source": [
    "import pandas as pd"
   ]
  },
  {
   "cell_type": "code",
   "execution_count": 3,
   "outputs": [],
   "source": [
    "data = pd.read_csv(\"data/IRAhandle_tweets_1.csv\")"
   ],
   "metadata": {
    "collapsed": false
   }
  },
  {
   "cell_type": "code",
   "execution_count": 4,
   "outputs": [
    {
     "data": {
      "text/plain": "        external_author_id           author  \\\n0       906000000000000000           10_GOP   \n1       906000000000000000           10_GOP   \n2       906000000000000000           10_GOP   \n3       906000000000000000           10_GOP   \n4       906000000000000000           10_GOP   \n...                    ...              ...   \n243886          2497991305  AUSTINLOVESBEER   \n243887          2497991305  AUSTINLOVESBEER   \n243888          2497991305  AUSTINLOVESBEER   \n243889          2497991305  AUSTINLOVESBEER   \n243890          2497991305  AUSTINLOVESBEER   \n\n                                                  content         region  \\\n0       \"We have a sitting Democrat US Senator on tria...        Unknown   \n1       Marshawn Lynch arrives to game in anti-Trump s...        Unknown   \n2       Daughter of fallen Navy Sailor delivers powerf...        Unknown   \n3       JUST IN: President Trump dedicates Presidents ...        Unknown   \n4       19,000 RESPECTING our National Anthem! #StandF...        Unknown   \n...                                                   ...            ...   \n243886  BREAKING: Killer avalanche sweeps three skiers...  United States   \n243887  Why men should support International Women’s D...  United States   \n243888  How we can rebuild trust in a UK divided by in...  United States   \n243889  John Humphrys accused of patronising Angela Ra...  United States   \n243890  Fossilized poop found in 180-million-year-old ...  United States   \n\n       language     publish_date   harvested_date  following  followers  \\\n0       English  10/1/2017 19:58  10/1/2017 19:59       1052       9636   \n1       English  10/1/2017 22:43  10/1/2017 22:43       1054       9637   \n2       English  10/1/2017 22:50  10/1/2017 22:51       1054       9637   \n3       English  10/1/2017 23:52  10/1/2017 23:52       1062       9642   \n4       English   10/1/2017 2:13   10/1/2017 2:13       1050       9645   \n...         ...              ...              ...        ...        ...   \n243886  English    3/8/2017 8:59    3/8/2017 8:59         41         34   \n243887  English    3/8/2017 8:59    3/8/2017 9:00         41         34   \n243888  English    3/8/2017 8:59    3/8/2017 8:59         41         34   \n243889  English    3/8/2017 8:59    3/8/2017 8:59         41         34   \n243890  English    3/8/2017 8:59    3/8/2017 8:59         41         34   \n\n        updates  ... account_type retweet  account_category new_june_2018  \\\n0           253  ...        Right       0        RightTroll             0   \n1           254  ...        Right       0        RightTroll             0   \n2           255  ...        Right       1        RightTroll             0   \n3           256  ...        Right       0        RightTroll             0   \n4           246  ...        Right       1        RightTroll             0   \n...         ...  ...          ...     ...               ...           ...   \n243886      173  ...        Right       1        RightTroll             0   \n243887      175  ...        Right       1        RightTroll             0   \n243888      170  ...        Right       1        RightTroll             0   \n243889      171  ...        Right       1        RightTroll             0   \n243890      174  ...        Right       1        RightTroll             0   \n\n           alt_external_id            tweet_id  \\\n0       905874659358453760  914580356430536707   \n1       905874659358453760  914621840496189440   \n2       905874659358453760  914623490375979008   \n3       905874659358453760  914639143690555392   \n4       905874659358453760  914312219952861184   \n...                    ...                 ...   \n243886          2497991305  839400198002503680   \n243887          2497991305  839400290168135680   \n243888          2497991305  839400090582179840   \n243889          2497991305  839400131325648896   \n243890          2497991305  839400253413437440   \n\n                                              article_url  \\\n0       http://twitter.com/905874659358453760/statuses...   \n1       http://twitter.com/905874659358453760/statuses...   \n2       http://twitter.com/905874659358453760/statuses...   \n3       http://twitter.com/905874659358453760/statuses...   \n4       http://twitter.com/905874659358453760/statuses...   \n...                                                   ...   \n243886  http://twitter.com/2497991305/statuses/8394001...   \n243887  http://twitter.com/2497991305/statuses/8394002...   \n243888  http://twitter.com/2497991305/statuses/8394000...   \n243889  http://twitter.com/2497991305/statuses/8394001...   \n243890  http://twitter.com/2497991305/statuses/8394002...   \n\n                                               tco1_step1  \\\n0       https://twitter.com/10_gop/status/914580356430...   \n1       https://twitter.com/damienwoody/status/9145685...   \n2       https://twitter.com/10_gop/status/913231923715...   \n3       https://twitter.com/10_gop/status/914639143690...   \n4       https://twitter.com/realDonaldTrump/status/914...   \n...                                                   ...   \n243886  https://twitter.com/Daily_Star/status/83938477...   \n243887                             http://trib.al/xiMs3md   \n243888                             http://trib.al/l3iyCVF   \n243889                              http://bit.ly/2m0OQL7   \n243890                           http://dailym.ai/2lV5BXf   \n\n                   tco2_step1 tco3_step1  \n0                         NaN        NaN  \n1                         NaN        NaN  \n2                         NaN        NaN  \n3                         NaN        NaN  \n4                         NaN        NaN  \n...                       ...        ...  \n243886  http://bit.ly/2lWNDnt        NaN  \n243887                    NaN        NaN  \n243888                    NaN        NaN  \n243889                    NaN        NaN  \n243890                    NaN        NaN  \n\n[243891 rows x 21 columns]",
      "text/html": "<div>\n<style scoped>\n    .dataframe tbody tr th:only-of-type {\n        vertical-align: middle;\n    }\n\n    .dataframe tbody tr th {\n        vertical-align: top;\n    }\n\n    .dataframe thead th {\n        text-align: right;\n    }\n</style>\n<table border=\"1\" class=\"dataframe\">\n  <thead>\n    <tr style=\"text-align: right;\">\n      <th></th>\n      <th>external_author_id</th>\n      <th>author</th>\n      <th>content</th>\n      <th>region</th>\n      <th>language</th>\n      <th>publish_date</th>\n      <th>harvested_date</th>\n      <th>following</th>\n      <th>followers</th>\n      <th>updates</th>\n      <th>...</th>\n      <th>account_type</th>\n      <th>retweet</th>\n      <th>account_category</th>\n      <th>new_june_2018</th>\n      <th>alt_external_id</th>\n      <th>tweet_id</th>\n      <th>article_url</th>\n      <th>tco1_step1</th>\n      <th>tco2_step1</th>\n      <th>tco3_step1</th>\n    </tr>\n  </thead>\n  <tbody>\n    <tr>\n      <th>0</th>\n      <td>906000000000000000</td>\n      <td>10_GOP</td>\n      <td>\"We have a sitting Democrat US Senator on tria...</td>\n      <td>Unknown</td>\n      <td>English</td>\n      <td>10/1/2017 19:58</td>\n      <td>10/1/2017 19:59</td>\n      <td>1052</td>\n      <td>9636</td>\n      <td>253</td>\n      <td>...</td>\n      <td>Right</td>\n      <td>0</td>\n      <td>RightTroll</td>\n      <td>0</td>\n      <td>905874659358453760</td>\n      <td>914580356430536707</td>\n      <td>http://twitter.com/905874659358453760/statuses...</td>\n      <td>https://twitter.com/10_gop/status/914580356430...</td>\n      <td>NaN</td>\n      <td>NaN</td>\n    </tr>\n    <tr>\n      <th>1</th>\n      <td>906000000000000000</td>\n      <td>10_GOP</td>\n      <td>Marshawn Lynch arrives to game in anti-Trump s...</td>\n      <td>Unknown</td>\n      <td>English</td>\n      <td>10/1/2017 22:43</td>\n      <td>10/1/2017 22:43</td>\n      <td>1054</td>\n      <td>9637</td>\n      <td>254</td>\n      <td>...</td>\n      <td>Right</td>\n      <td>0</td>\n      <td>RightTroll</td>\n      <td>0</td>\n      <td>905874659358453760</td>\n      <td>914621840496189440</td>\n      <td>http://twitter.com/905874659358453760/statuses...</td>\n      <td>https://twitter.com/damienwoody/status/9145685...</td>\n      <td>NaN</td>\n      <td>NaN</td>\n    </tr>\n    <tr>\n      <th>2</th>\n      <td>906000000000000000</td>\n      <td>10_GOP</td>\n      <td>Daughter of fallen Navy Sailor delivers powerf...</td>\n      <td>Unknown</td>\n      <td>English</td>\n      <td>10/1/2017 22:50</td>\n      <td>10/1/2017 22:51</td>\n      <td>1054</td>\n      <td>9637</td>\n      <td>255</td>\n      <td>...</td>\n      <td>Right</td>\n      <td>1</td>\n      <td>RightTroll</td>\n      <td>0</td>\n      <td>905874659358453760</td>\n      <td>914623490375979008</td>\n      <td>http://twitter.com/905874659358453760/statuses...</td>\n      <td>https://twitter.com/10_gop/status/913231923715...</td>\n      <td>NaN</td>\n      <td>NaN</td>\n    </tr>\n    <tr>\n      <th>3</th>\n      <td>906000000000000000</td>\n      <td>10_GOP</td>\n      <td>JUST IN: President Trump dedicates Presidents ...</td>\n      <td>Unknown</td>\n      <td>English</td>\n      <td>10/1/2017 23:52</td>\n      <td>10/1/2017 23:52</td>\n      <td>1062</td>\n      <td>9642</td>\n      <td>256</td>\n      <td>...</td>\n      <td>Right</td>\n      <td>0</td>\n      <td>RightTroll</td>\n      <td>0</td>\n      <td>905874659358453760</td>\n      <td>914639143690555392</td>\n      <td>http://twitter.com/905874659358453760/statuses...</td>\n      <td>https://twitter.com/10_gop/status/914639143690...</td>\n      <td>NaN</td>\n      <td>NaN</td>\n    </tr>\n    <tr>\n      <th>4</th>\n      <td>906000000000000000</td>\n      <td>10_GOP</td>\n      <td>19,000 RESPECTING our National Anthem! #StandF...</td>\n      <td>Unknown</td>\n      <td>English</td>\n      <td>10/1/2017 2:13</td>\n      <td>10/1/2017 2:13</td>\n      <td>1050</td>\n      <td>9645</td>\n      <td>246</td>\n      <td>...</td>\n      <td>Right</td>\n      <td>1</td>\n      <td>RightTroll</td>\n      <td>0</td>\n      <td>905874659358453760</td>\n      <td>914312219952861184</td>\n      <td>http://twitter.com/905874659358453760/statuses...</td>\n      <td>https://twitter.com/realDonaldTrump/status/914...</td>\n      <td>NaN</td>\n      <td>NaN</td>\n    </tr>\n    <tr>\n      <th>...</th>\n      <td>...</td>\n      <td>...</td>\n      <td>...</td>\n      <td>...</td>\n      <td>...</td>\n      <td>...</td>\n      <td>...</td>\n      <td>...</td>\n      <td>...</td>\n      <td>...</td>\n      <td>...</td>\n      <td>...</td>\n      <td>...</td>\n      <td>...</td>\n      <td>...</td>\n      <td>...</td>\n      <td>...</td>\n      <td>...</td>\n      <td>...</td>\n      <td>...</td>\n      <td>...</td>\n    </tr>\n    <tr>\n      <th>243886</th>\n      <td>2497991305</td>\n      <td>AUSTINLOVESBEER</td>\n      <td>BREAKING: Killer avalanche sweeps three skiers...</td>\n      <td>United States</td>\n      <td>English</td>\n      <td>3/8/2017 8:59</td>\n      <td>3/8/2017 8:59</td>\n      <td>41</td>\n      <td>34</td>\n      <td>173</td>\n      <td>...</td>\n      <td>Right</td>\n      <td>1</td>\n      <td>RightTroll</td>\n      <td>0</td>\n      <td>2497991305</td>\n      <td>839400198002503680</td>\n      <td>http://twitter.com/2497991305/statuses/8394001...</td>\n      <td>https://twitter.com/Daily_Star/status/83938477...</td>\n      <td>http://bit.ly/2lWNDnt</td>\n      <td>NaN</td>\n    </tr>\n    <tr>\n      <th>243887</th>\n      <td>2497991305</td>\n      <td>AUSTINLOVESBEER</td>\n      <td>Why men should support International Women’s D...</td>\n      <td>United States</td>\n      <td>English</td>\n      <td>3/8/2017 8:59</td>\n      <td>3/8/2017 9:00</td>\n      <td>41</td>\n      <td>34</td>\n      <td>175</td>\n      <td>...</td>\n      <td>Right</td>\n      <td>1</td>\n      <td>RightTroll</td>\n      <td>0</td>\n      <td>2497991305</td>\n      <td>839400290168135680</td>\n      <td>http://twitter.com/2497991305/statuses/8394002...</td>\n      <td>http://trib.al/xiMs3md</td>\n      <td>NaN</td>\n      <td>NaN</td>\n    </tr>\n    <tr>\n      <th>243888</th>\n      <td>2497991305</td>\n      <td>AUSTINLOVESBEER</td>\n      <td>How we can rebuild trust in a UK divided by in...</td>\n      <td>United States</td>\n      <td>English</td>\n      <td>3/8/2017 8:59</td>\n      <td>3/8/2017 8:59</td>\n      <td>41</td>\n      <td>34</td>\n      <td>170</td>\n      <td>...</td>\n      <td>Right</td>\n      <td>1</td>\n      <td>RightTroll</td>\n      <td>0</td>\n      <td>2497991305</td>\n      <td>839400090582179840</td>\n      <td>http://twitter.com/2497991305/statuses/8394000...</td>\n      <td>http://trib.al/l3iyCVF</td>\n      <td>NaN</td>\n      <td>NaN</td>\n    </tr>\n    <tr>\n      <th>243889</th>\n      <td>2497991305</td>\n      <td>AUSTINLOVESBEER</td>\n      <td>John Humphrys accused of patronising Angela Ra...</td>\n      <td>United States</td>\n      <td>English</td>\n      <td>3/8/2017 8:59</td>\n      <td>3/8/2017 8:59</td>\n      <td>41</td>\n      <td>34</td>\n      <td>171</td>\n      <td>...</td>\n      <td>Right</td>\n      <td>1</td>\n      <td>RightTroll</td>\n      <td>0</td>\n      <td>2497991305</td>\n      <td>839400131325648896</td>\n      <td>http://twitter.com/2497991305/statuses/8394001...</td>\n      <td>http://bit.ly/2m0OQL7</td>\n      <td>NaN</td>\n      <td>NaN</td>\n    </tr>\n    <tr>\n      <th>243890</th>\n      <td>2497991305</td>\n      <td>AUSTINLOVESBEER</td>\n      <td>Fossilized poop found in 180-million-year-old ...</td>\n      <td>United States</td>\n      <td>English</td>\n      <td>3/8/2017 8:59</td>\n      <td>3/8/2017 8:59</td>\n      <td>41</td>\n      <td>34</td>\n      <td>174</td>\n      <td>...</td>\n      <td>Right</td>\n      <td>1</td>\n      <td>RightTroll</td>\n      <td>0</td>\n      <td>2497991305</td>\n      <td>839400253413437440</td>\n      <td>http://twitter.com/2497991305/statuses/8394002...</td>\n      <td>http://dailym.ai/2lV5BXf</td>\n      <td>NaN</td>\n      <td>NaN</td>\n    </tr>\n  </tbody>\n</table>\n<p>243891 rows × 21 columns</p>\n</div>"
     },
     "execution_count": 4,
     "metadata": {},
     "output_type": "execute_result"
    }
   ],
   "source": [
    "data"
   ],
   "metadata": {
    "collapsed": false
   }
  },
  {
   "cell_type": "code",
   "execution_count": 5,
   "outputs": [
    {
     "data": {
      "text/plain": "243891"
     },
     "execution_count": 5,
     "metadata": {},
     "output_type": "execute_result"
    }
   ],
   "source": [
    "len(data)"
   ],
   "metadata": {
    "collapsed": false
   }
  },
  {
   "cell_type": "code",
   "execution_count": 6,
   "outputs": [],
   "source": [
    "split = data.head(10000)"
   ],
   "metadata": {
    "collapsed": false
   }
  },
  {
   "cell_type": "code",
   "execution_count": 7,
   "outputs": [],
   "source": [
    "english_data = split[split['language'] == \"English\"]"
   ],
   "metadata": {
    "collapsed": false
   }
  },
  {
   "cell_type": "code",
   "execution_count": 8,
   "outputs": [],
   "source": [
    "filtered_no_questions = english_data[~english_data['content'].str.contains('\\?')]"
   ],
   "metadata": {
    "collapsed": false
   }
  },
  {
   "cell_type": "code",
   "execution_count": 9,
   "outputs": [
    {
     "data": {
      "text/plain": "4802"
     },
     "execution_count": 9,
     "metadata": {},
     "output_type": "execute_result"
    }
   ],
   "source": [
    "len(filtered_no_questions)"
   ],
   "metadata": {
    "collapsed": false
   }
  },
  {
   "cell_type": "code",
   "execution_count": 10,
   "outputs": [],
   "source": [
    "filtered_no_questions.to_csv(\"data/filtered_data.tsv\", sep=\"\\t\")"
   ],
   "metadata": {
    "collapsed": false
   }
  },
  {
   "cell_type": "markdown",
   "source": [
    "# Data Annotation"
   ],
   "metadata": {
    "collapsed": false
   }
  },
  {
   "cell_type": "code",
   "execution_count": 11,
   "outputs": [],
   "source": [
    "annotated_data = filtered_no_questions.copy()"
   ],
   "metadata": {
    "collapsed": false
   }
  },
  {
   "cell_type": "code",
   "execution_count": 12,
   "outputs": [
    {
     "data": {
      "text/plain": "   external_author_id  author  \\\n0  906000000000000000  10_GOP   \n1  906000000000000000  10_GOP   \n2  906000000000000000  10_GOP   \n3  906000000000000000  10_GOP   \n4  906000000000000000  10_GOP   \n\n                                             content   region language  \\\n0  \"We have a sitting Democrat US Senator on tria...  Unknown  English   \n1  Marshawn Lynch arrives to game in anti-Trump s...  Unknown  English   \n2  Daughter of fallen Navy Sailor delivers powerf...  Unknown  English   \n3  JUST IN: President Trump dedicates Presidents ...  Unknown  English   \n4  19,000 RESPECTING our National Anthem! #StandF...  Unknown  English   \n\n      publish_date   harvested_date  following  followers  updates  ...  \\\n0  10/1/2017 19:58  10/1/2017 19:59       1052       9636      253  ...   \n1  10/1/2017 22:43  10/1/2017 22:43       1054       9637      254  ...   \n2  10/1/2017 22:50  10/1/2017 22:51       1054       9637      255  ...   \n3  10/1/2017 23:52  10/1/2017 23:52       1062       9642      256  ...   \n4   10/1/2017 2:13   10/1/2017 2:13       1050       9645      246  ...   \n\n  account_type retweet  account_category new_june_2018     alt_external_id  \\\n0        Right       0        RightTroll             0  905874659358453760   \n1        Right       0        RightTroll             0  905874659358453760   \n2        Right       1        RightTroll             0  905874659358453760   \n3        Right       0        RightTroll             0  905874659358453760   \n4        Right       1        RightTroll             0  905874659358453760   \n\n             tweet_id                                        article_url  \\\n0  914580356430536707  http://twitter.com/905874659358453760/statuses...   \n1  914621840496189440  http://twitter.com/905874659358453760/statuses...   \n2  914623490375979008  http://twitter.com/905874659358453760/statuses...   \n3  914639143690555392  http://twitter.com/905874659358453760/statuses...   \n4  914312219952861184  http://twitter.com/905874659358453760/statuses...   \n\n                                          tco1_step1 tco2_step1 tco3_step1  \n0  https://twitter.com/10_gop/status/914580356430...        NaN        NaN  \n1  https://twitter.com/damienwoody/status/9145685...        NaN        NaN  \n2  https://twitter.com/10_gop/status/913231923715...        NaN        NaN  \n3  https://twitter.com/10_gop/status/914639143690...        NaN        NaN  \n4  https://twitter.com/realDonaldTrump/status/914...        NaN        NaN  \n\n[5 rows x 21 columns]",
      "text/html": "<div>\n<style scoped>\n    .dataframe tbody tr th:only-of-type {\n        vertical-align: middle;\n    }\n\n    .dataframe tbody tr th {\n        vertical-align: top;\n    }\n\n    .dataframe thead th {\n        text-align: right;\n    }\n</style>\n<table border=\"1\" class=\"dataframe\">\n  <thead>\n    <tr style=\"text-align: right;\">\n      <th></th>\n      <th>external_author_id</th>\n      <th>author</th>\n      <th>content</th>\n      <th>region</th>\n      <th>language</th>\n      <th>publish_date</th>\n      <th>harvested_date</th>\n      <th>following</th>\n      <th>followers</th>\n      <th>updates</th>\n      <th>...</th>\n      <th>account_type</th>\n      <th>retweet</th>\n      <th>account_category</th>\n      <th>new_june_2018</th>\n      <th>alt_external_id</th>\n      <th>tweet_id</th>\n      <th>article_url</th>\n      <th>tco1_step1</th>\n      <th>tco2_step1</th>\n      <th>tco3_step1</th>\n    </tr>\n  </thead>\n  <tbody>\n    <tr>\n      <th>0</th>\n      <td>906000000000000000</td>\n      <td>10_GOP</td>\n      <td>\"We have a sitting Democrat US Senator on tria...</td>\n      <td>Unknown</td>\n      <td>English</td>\n      <td>10/1/2017 19:58</td>\n      <td>10/1/2017 19:59</td>\n      <td>1052</td>\n      <td>9636</td>\n      <td>253</td>\n      <td>...</td>\n      <td>Right</td>\n      <td>0</td>\n      <td>RightTroll</td>\n      <td>0</td>\n      <td>905874659358453760</td>\n      <td>914580356430536707</td>\n      <td>http://twitter.com/905874659358453760/statuses...</td>\n      <td>https://twitter.com/10_gop/status/914580356430...</td>\n      <td>NaN</td>\n      <td>NaN</td>\n    </tr>\n    <tr>\n      <th>1</th>\n      <td>906000000000000000</td>\n      <td>10_GOP</td>\n      <td>Marshawn Lynch arrives to game in anti-Trump s...</td>\n      <td>Unknown</td>\n      <td>English</td>\n      <td>10/1/2017 22:43</td>\n      <td>10/1/2017 22:43</td>\n      <td>1054</td>\n      <td>9637</td>\n      <td>254</td>\n      <td>...</td>\n      <td>Right</td>\n      <td>0</td>\n      <td>RightTroll</td>\n      <td>0</td>\n      <td>905874659358453760</td>\n      <td>914621840496189440</td>\n      <td>http://twitter.com/905874659358453760/statuses...</td>\n      <td>https://twitter.com/damienwoody/status/9145685...</td>\n      <td>NaN</td>\n      <td>NaN</td>\n    </tr>\n    <tr>\n      <th>2</th>\n      <td>906000000000000000</td>\n      <td>10_GOP</td>\n      <td>Daughter of fallen Navy Sailor delivers powerf...</td>\n      <td>Unknown</td>\n      <td>English</td>\n      <td>10/1/2017 22:50</td>\n      <td>10/1/2017 22:51</td>\n      <td>1054</td>\n      <td>9637</td>\n      <td>255</td>\n      <td>...</td>\n      <td>Right</td>\n      <td>1</td>\n      <td>RightTroll</td>\n      <td>0</td>\n      <td>905874659358453760</td>\n      <td>914623490375979008</td>\n      <td>http://twitter.com/905874659358453760/statuses...</td>\n      <td>https://twitter.com/10_gop/status/913231923715...</td>\n      <td>NaN</td>\n      <td>NaN</td>\n    </tr>\n    <tr>\n      <th>3</th>\n      <td>906000000000000000</td>\n      <td>10_GOP</td>\n      <td>JUST IN: President Trump dedicates Presidents ...</td>\n      <td>Unknown</td>\n      <td>English</td>\n      <td>10/1/2017 23:52</td>\n      <td>10/1/2017 23:52</td>\n      <td>1062</td>\n      <td>9642</td>\n      <td>256</td>\n      <td>...</td>\n      <td>Right</td>\n      <td>0</td>\n      <td>RightTroll</td>\n      <td>0</td>\n      <td>905874659358453760</td>\n      <td>914639143690555392</td>\n      <td>http://twitter.com/905874659358453760/statuses...</td>\n      <td>https://twitter.com/10_gop/status/914639143690...</td>\n      <td>NaN</td>\n      <td>NaN</td>\n    </tr>\n    <tr>\n      <th>4</th>\n      <td>906000000000000000</td>\n      <td>10_GOP</td>\n      <td>19,000 RESPECTING our National Anthem! #StandF...</td>\n      <td>Unknown</td>\n      <td>English</td>\n      <td>10/1/2017 2:13</td>\n      <td>10/1/2017 2:13</td>\n      <td>1050</td>\n      <td>9645</td>\n      <td>246</td>\n      <td>...</td>\n      <td>Right</td>\n      <td>1</td>\n      <td>RightTroll</td>\n      <td>0</td>\n      <td>905874659358453760</td>\n      <td>914312219952861184</td>\n      <td>http://twitter.com/905874659358453760/statuses...</td>\n      <td>https://twitter.com/realDonaldTrump/status/914...</td>\n      <td>NaN</td>\n      <td>NaN</td>\n    </tr>\n  </tbody>\n</table>\n<p>5 rows × 21 columns</p>\n</div>"
     },
     "execution_count": 12,
     "metadata": {},
     "output_type": "execute_result"
    }
   ],
   "source": [
    "annotated_data.head()"
   ],
   "metadata": {
    "collapsed": false
   }
  },
  {
   "cell_type": "code",
   "execution_count": 13,
   "outputs": [],
   "source": [
    "annotated_data['trump_mention'] = annotated_data['content'].str.contains('[^a-zA-Z0-9]Trump[^a-zA-Z0-9]')"
   ],
   "metadata": {
    "collapsed": false
   }
  },
  {
   "cell_type": "code",
   "execution_count": 14,
   "outputs": [
    {
     "data": {
      "text/plain": "   external_author_id  author  \\\n0  906000000000000000  10_GOP   \n1  906000000000000000  10_GOP   \n2  906000000000000000  10_GOP   \n3  906000000000000000  10_GOP   \n4  906000000000000000  10_GOP   \n\n                                             content   region language  \\\n0  \"We have a sitting Democrat US Senator on tria...  Unknown  English   \n1  Marshawn Lynch arrives to game in anti-Trump s...  Unknown  English   \n2  Daughter of fallen Navy Sailor delivers powerf...  Unknown  English   \n3  JUST IN: President Trump dedicates Presidents ...  Unknown  English   \n4  19,000 RESPECTING our National Anthem! #StandF...  Unknown  English   \n\n      publish_date   harvested_date  following  followers  updates  ...  \\\n0  10/1/2017 19:58  10/1/2017 19:59       1052       9636      253  ...   \n1  10/1/2017 22:43  10/1/2017 22:43       1054       9637      254  ...   \n2  10/1/2017 22:50  10/1/2017 22:51       1054       9637      255  ...   \n3  10/1/2017 23:52  10/1/2017 23:52       1062       9642      256  ...   \n4   10/1/2017 2:13   10/1/2017 2:13       1050       9645      246  ...   \n\n  retweet account_category  new_june_2018     alt_external_id  \\\n0       0       RightTroll              0  905874659358453760   \n1       0       RightTroll              0  905874659358453760   \n2       1       RightTroll              0  905874659358453760   \n3       0       RightTroll              0  905874659358453760   \n4       1       RightTroll              0  905874659358453760   \n\n             tweet_id                                        article_url  \\\n0  914580356430536707  http://twitter.com/905874659358453760/statuses...   \n1  914621840496189440  http://twitter.com/905874659358453760/statuses...   \n2  914623490375979008  http://twitter.com/905874659358453760/statuses...   \n3  914639143690555392  http://twitter.com/905874659358453760/statuses...   \n4  914312219952861184  http://twitter.com/905874659358453760/statuses...   \n\n                                          tco1_step1 tco2_step1 tco3_step1  \\\n0  https://twitter.com/10_gop/status/914580356430...        NaN        NaN   \n1  https://twitter.com/damienwoody/status/9145685...        NaN        NaN   \n2  https://twitter.com/10_gop/status/913231923715...        NaN        NaN   \n3  https://twitter.com/10_gop/status/914639143690...        NaN        NaN   \n4  https://twitter.com/realDonaldTrump/status/914...        NaN        NaN   \n\n  trump_mention  \n0         False  \n1          True  \n2         False  \n3          True  \n4         False  \n\n[5 rows x 22 columns]",
      "text/html": "<div>\n<style scoped>\n    .dataframe tbody tr th:only-of-type {\n        vertical-align: middle;\n    }\n\n    .dataframe tbody tr th {\n        vertical-align: top;\n    }\n\n    .dataframe thead th {\n        text-align: right;\n    }\n</style>\n<table border=\"1\" class=\"dataframe\">\n  <thead>\n    <tr style=\"text-align: right;\">\n      <th></th>\n      <th>external_author_id</th>\n      <th>author</th>\n      <th>content</th>\n      <th>region</th>\n      <th>language</th>\n      <th>publish_date</th>\n      <th>harvested_date</th>\n      <th>following</th>\n      <th>followers</th>\n      <th>updates</th>\n      <th>...</th>\n      <th>retweet</th>\n      <th>account_category</th>\n      <th>new_june_2018</th>\n      <th>alt_external_id</th>\n      <th>tweet_id</th>\n      <th>article_url</th>\n      <th>tco1_step1</th>\n      <th>tco2_step1</th>\n      <th>tco3_step1</th>\n      <th>trump_mention</th>\n    </tr>\n  </thead>\n  <tbody>\n    <tr>\n      <th>0</th>\n      <td>906000000000000000</td>\n      <td>10_GOP</td>\n      <td>\"We have a sitting Democrat US Senator on tria...</td>\n      <td>Unknown</td>\n      <td>English</td>\n      <td>10/1/2017 19:58</td>\n      <td>10/1/2017 19:59</td>\n      <td>1052</td>\n      <td>9636</td>\n      <td>253</td>\n      <td>...</td>\n      <td>0</td>\n      <td>RightTroll</td>\n      <td>0</td>\n      <td>905874659358453760</td>\n      <td>914580356430536707</td>\n      <td>http://twitter.com/905874659358453760/statuses...</td>\n      <td>https://twitter.com/10_gop/status/914580356430...</td>\n      <td>NaN</td>\n      <td>NaN</td>\n      <td>False</td>\n    </tr>\n    <tr>\n      <th>1</th>\n      <td>906000000000000000</td>\n      <td>10_GOP</td>\n      <td>Marshawn Lynch arrives to game in anti-Trump s...</td>\n      <td>Unknown</td>\n      <td>English</td>\n      <td>10/1/2017 22:43</td>\n      <td>10/1/2017 22:43</td>\n      <td>1054</td>\n      <td>9637</td>\n      <td>254</td>\n      <td>...</td>\n      <td>0</td>\n      <td>RightTroll</td>\n      <td>0</td>\n      <td>905874659358453760</td>\n      <td>914621840496189440</td>\n      <td>http://twitter.com/905874659358453760/statuses...</td>\n      <td>https://twitter.com/damienwoody/status/9145685...</td>\n      <td>NaN</td>\n      <td>NaN</td>\n      <td>True</td>\n    </tr>\n    <tr>\n      <th>2</th>\n      <td>906000000000000000</td>\n      <td>10_GOP</td>\n      <td>Daughter of fallen Navy Sailor delivers powerf...</td>\n      <td>Unknown</td>\n      <td>English</td>\n      <td>10/1/2017 22:50</td>\n      <td>10/1/2017 22:51</td>\n      <td>1054</td>\n      <td>9637</td>\n      <td>255</td>\n      <td>...</td>\n      <td>1</td>\n      <td>RightTroll</td>\n      <td>0</td>\n      <td>905874659358453760</td>\n      <td>914623490375979008</td>\n      <td>http://twitter.com/905874659358453760/statuses...</td>\n      <td>https://twitter.com/10_gop/status/913231923715...</td>\n      <td>NaN</td>\n      <td>NaN</td>\n      <td>False</td>\n    </tr>\n    <tr>\n      <th>3</th>\n      <td>906000000000000000</td>\n      <td>10_GOP</td>\n      <td>JUST IN: President Trump dedicates Presidents ...</td>\n      <td>Unknown</td>\n      <td>English</td>\n      <td>10/1/2017 23:52</td>\n      <td>10/1/2017 23:52</td>\n      <td>1062</td>\n      <td>9642</td>\n      <td>256</td>\n      <td>...</td>\n      <td>0</td>\n      <td>RightTroll</td>\n      <td>0</td>\n      <td>905874659358453760</td>\n      <td>914639143690555392</td>\n      <td>http://twitter.com/905874659358453760/statuses...</td>\n      <td>https://twitter.com/10_gop/status/914639143690...</td>\n      <td>NaN</td>\n      <td>NaN</td>\n      <td>True</td>\n    </tr>\n    <tr>\n      <th>4</th>\n      <td>906000000000000000</td>\n      <td>10_GOP</td>\n      <td>19,000 RESPECTING our National Anthem! #StandF...</td>\n      <td>Unknown</td>\n      <td>English</td>\n      <td>10/1/2017 2:13</td>\n      <td>10/1/2017 2:13</td>\n      <td>1050</td>\n      <td>9645</td>\n      <td>246</td>\n      <td>...</td>\n      <td>1</td>\n      <td>RightTroll</td>\n      <td>0</td>\n      <td>905874659358453760</td>\n      <td>914312219952861184</td>\n      <td>http://twitter.com/905874659358453760/statuses...</td>\n      <td>https://twitter.com/realDonaldTrump/status/914...</td>\n      <td>NaN</td>\n      <td>NaN</td>\n      <td>False</td>\n    </tr>\n  </tbody>\n</table>\n<p>5 rows × 22 columns</p>\n</div>"
     },
     "execution_count": 14,
     "metadata": {},
     "output_type": "execute_result"
    }
   ],
   "source": [
    "annotated_data.head()"
   ],
   "metadata": {
    "collapsed": false
   }
  },
  {
   "cell_type": "code",
   "execution_count": 15,
   "outputs": [
    {
     "data": {
      "text/plain": "4802"
     },
     "execution_count": 15,
     "metadata": {},
     "output_type": "execute_result"
    }
   ],
   "source": [
    "len(annotated_data)"
   ],
   "metadata": {
    "collapsed": false
   }
  },
  {
   "cell_type": "code",
   "execution_count": 16,
   "outputs": [],
   "source": [
    "annotated_data.to_csv(\"data/annotated_data.tsv\", sep=\"\\t\")"
   ],
   "metadata": {
    "collapsed": false
   }
  },
  {
   "cell_type": "markdown",
   "source": [
    "# Analysis"
   ],
   "metadata": {
    "collapsed": false
   }
  },
  {
   "cell_type": "code",
   "execution_count": 17,
   "outputs": [],
   "source": [
    "percentages = annotated_data['trump_mention'].value_counts(normalize=True).mul(100).round(3).astype(str)+'%'"
   ],
   "metadata": {
    "collapsed": false
   }
  },
  {
   "cell_type": "code",
   "execution_count": 18,
   "outputs": [
    {
     "data": {
      "text/plain": "trump_mention\nFalse    97.834%\nTrue      2.166%\nName: proportion, dtype: object"
     },
     "execution_count": 18,
     "metadata": {},
     "output_type": "execute_result"
    }
   ],
   "source": [
    "percentages"
   ],
   "metadata": {
    "collapsed": false
   }
  },
  {
   "cell_type": "code",
   "execution_count": 19,
   "outputs": [
    {
     "data": {
      "text/plain": "'2.166%'"
     },
     "execution_count": 19,
     "metadata": {},
     "output_type": "execute_result"
    }
   ],
   "source": [
    "value = percentages.loc[True]\n",
    "value"
   ],
   "metadata": {
    "collapsed": false
   }
  },
  {
   "cell_type": "code",
   "execution_count": 20,
   "outputs": [],
   "source": [
    "d = {'result': ['frac-trump-mentions'], 'value': [value] }"
   ],
   "metadata": {
    "collapsed": false
   }
  },
  {
   "cell_type": "code",
   "execution_count": 21,
   "outputs": [],
   "source": [
    "results = pd.DataFrame(data=d)"
   ],
   "metadata": {
    "collapsed": false
   }
  },
  {
   "cell_type": "code",
   "execution_count": 22,
   "outputs": [],
   "source": [
    "results = results.reset_index(drop=True)"
   ],
   "metadata": {
    "collapsed": false
   }
  },
  {
   "cell_type": "code",
   "execution_count": 23,
   "outputs": [
    {
     "data": {
      "text/plain": "                result   value\n0  frac-trump-mentions  2.166%",
      "text/html": "<div>\n<style scoped>\n    .dataframe tbody tr th:only-of-type {\n        vertical-align: middle;\n    }\n\n    .dataframe tbody tr th {\n        vertical-align: top;\n    }\n\n    .dataframe thead th {\n        text-align: right;\n    }\n</style>\n<table border=\"1\" class=\"dataframe\">\n  <thead>\n    <tr style=\"text-align: right;\">\n      <th></th>\n      <th>result</th>\n      <th>value</th>\n    </tr>\n  </thead>\n  <tbody>\n    <tr>\n      <th>0</th>\n      <td>frac-trump-mentions</td>\n      <td>2.166%</td>\n    </tr>\n  </tbody>\n</table>\n</div>"
     },
     "execution_count": 23,
     "metadata": {},
     "output_type": "execute_result"
    }
   ],
   "source": [
    "results"
   ],
   "metadata": {
    "collapsed": false
   }
  },
  {
   "cell_type": "code",
   "execution_count": 24,
   "outputs": [],
   "source": [
    "results.to_csv(\"results.tsv\", sep=\"\\t\")"
   ],
   "metadata": {
    "collapsed": false
   }
  },
  {
   "cell_type": "code",
   "execution_count": 25,
   "outputs": [
    {
     "data": {
      "text/plain": "trump_mention\nFalse    4698\nTrue      104\nName: count, dtype: int64"
     },
     "execution_count": 25,
     "metadata": {},
     "output_type": "execute_result"
    }
   ],
   "source": [
    "annotated_data['trump_mention'].value_counts()"
   ],
   "metadata": {
    "collapsed": false
   }
  },
  {
   "cell_type": "code",
   "execution_count": 26,
   "outputs": [
    {
     "data": {
      "text/plain": "content\n\"#Weed didn't ruin my life. Getting caught with weed ruined my life.\"  http://t.co/K5INUiku8V http://t.co/AJntLl0Szw                        1\n\"...so we gon' fight, all day and night, until we get it right.\" #FireServinNow  Our #SayHerName action is today! http://t.co/uBFYom6wBO    1\n\"4 police officers murdered in the last 11 months that's about as bad as it gets.\"   Worse than 956 killed by police #NYPD                  1\n\"According to the FBI’s Uniform Crime Report, white Americans are responsible for 69.3 percent of crime.\" https://t.co/MzfmMt0MJj           1\n\"But what about black on black crime,\"the egg tweets in defiance. Triumphant in his victory. He screenshots his newly achieved block        1\n                                                                                                                                           ..\n���������� https://t.co/YfOefe99nf                                                                                                          1\n������������������ #acab #cops #PoliceBrutality #BlackLivesMatter #blackpeopletwitter http://t.co/oaNV0lRoHu                                1\n������������������������� https://t.co/i4ct8bOKFT                                                                                           1\n🐝🐝🐝 https://t.co/MorL3AQW0z                                                                                                                 1\n😂 https://t.co/rBDH8K2fxH                                                                                                                   1\nLength: 4779, dtype: int64"
     },
     "execution_count": 26,
     "metadata": {},
     "output_type": "execute_result"
    }
   ],
   "source": [
    "annotated_data.pivot_table(index = ['content'], aggfunc= 'size')"
   ],
   "metadata": {
    "collapsed": false
   }
  },
  {
   "cell_type": "code",
   "execution_count": 26,
   "outputs": [],
   "source": [],
   "metadata": {
    "collapsed": false
   }
  }
 ],
 "metadata": {
  "kernelspec": {
   "display_name": "Python 3",
   "language": "python",
   "name": "python3"
  },
  "language_info": {
   "codemirror_mode": {
    "name": "ipython",
    "version": 2
   },
   "file_extension": ".py",
   "mimetype": "text/x-python",
   "name": "python",
   "nbconvert_exporter": "python",
   "pygments_lexer": "ipython2",
   "version": "2.7.6"
  }
 },
 "nbformat": 4,
 "nbformat_minor": 0
}
